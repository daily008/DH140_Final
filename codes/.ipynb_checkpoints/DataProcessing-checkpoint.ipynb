{
 "cells": [
  {
   "cell_type": "code",
   "execution_count": 3,
   "id": "07d2a292",
   "metadata": {},
   "outputs": [
    {
     "name": "stdout",
     "output_type": "stream",
     "text": [
      "Collecting Levenshtein\n",
      "  Downloading Levenshtein-0.20.9-cp310-cp310-manylinux_2_17_x86_64.manylinux2014_x86_64.whl (174 kB)\n",
      "\u001b[2K     \u001b[90m━━━━━━━━━━━━━━━━━━━━━━━━━━━━━━━━━━━━━━━\u001b[0m \u001b[32m174.1/174.1 kB\u001b[0m \u001b[31m3.4 MB/s\u001b[0m eta \u001b[36m0:00:00\u001b[0m00:01\u001b[0m\n",
      "\u001b[?25hCollecting rapidfuzz<3.0.0,>=2.3.0\n",
      "  Downloading rapidfuzz-2.13.7-cp310-cp310-manylinux_2_17_x86_64.manylinux2014_x86_64.whl (2.2 MB)\n",
      "\u001b[2K     \u001b[90m━━━━━━━━━━━━━━━━━━━━━━━━━━━━━━━━━━━━━━━━\u001b[0m \u001b[32m2.2/2.2 MB\u001b[0m \u001b[31m23.9 MB/s\u001b[0m eta \u001b[36m0:00:00\u001b[0m00:01\u001b[0m00:01\u001b[0m\n",
      "\u001b[?25hInstalling collected packages: rapidfuzz, Levenshtein\n",
      "Successfully installed Levenshtein-0.20.9 rapidfuzz-2.13.7\n",
      "Note: you may need to restart the kernel to use updated packages.\n"
     ]
    }
   ],
   "source": [
    "pip install Levenshtein"
   ]
  },
  {
   "cell_type": "code",
   "execution_count": 23,
   "id": "abf07a53",
   "metadata": {},
   "outputs": [
    {
     "name": "stdout",
     "output_type": "stream",
     "text": [
      "Collecting Counter\n",
      "  Downloading Counter-1.0.0.tar.gz (5.2 kB)\n",
      "  Preparing metadata (setup.py) ... \u001b[?25ldone\n",
      "\u001b[?25hBuilding wheels for collected packages: Counter\n",
      "  Building wheel for Counter (setup.py) ... \u001b[?25ldone\n",
      "\u001b[?25h  Created wheel for Counter: filename=Counter-1.0.0-py3-none-any.whl size=5394 sha256=264b0ed287b1fab981bd5e8d092df7903fe24a57111dbb6b9847e2f8bee6bfe0\n",
      "  Stored in directory: /home/jovyan/.cache/pip/wheels/77/be/84/2c532d945bc50658d417e935f5bd6f1a5fa99b226a5eb635b2\n",
      "Successfully built Counter\n",
      "Installing collected packages: Counter\n",
      "Successfully installed Counter-1.0.0\n",
      "Note: you may need to restart the kernel to use updated packages.\n"
     ]
    }
   ],
   "source": [
    "pip install Counter"
   ]
  },
  {
   "cell_type": "code",
   "execution_count": 24,
   "id": "5a48cd42",
   "metadata": {
    "scrolled": true
   },
   "outputs": [],
   "source": [
    "import csv\n",
    "import Levenshtein\n",
    "import re, math\n",
    "from collections import Counter"
   ]
  },
  {
   "cell_type": "code",
   "execution_count": 25,
   "id": "3d1f9bce",
   "metadata": {},
   "outputs": [],
   "source": [
    "def compare_list(list1,list2):\n",
    "    if len(list1) != len(list2):\n",
    "        return 0\n",
    "    measure = 0\n",
    "    for i in range(0,len(list1)):\n",
    "        if not comparing(list1[i],list2[i]):\n",
    "            measure = 1\n",
    "            break\n",
    "    if measure == 0 :\n",
    "        return 1\n",
    "    else:\n",
    "        return 0"
   ]
  },
  {
   "cell_type": "code",
   "execution_count": 33,
   "id": "540aaf04",
   "metadata": {},
   "outputs": [],
   "source": [
    "\n",
    "def get_cosine(vec1, vec2):\n",
    "    # print vec1, vec2\n",
    "    intersection = set(vec1.keys()) & set(vec2.keys())\n",
    "    numerator = sum([vec1[x] * vec2[x] for x in intersection])\n",
    "\n",
    "    sum1 = sum([vec1[x]**2 for x in vec1.keys()])\n",
    "    sum2 = sum([vec2[x]**2 for x in vec2.keys()])\n",
    "    denominator = math.sqrt(sum1) * math.sqrt(sum2)\n",
    "\n",
    "    if not denominator:\n",
    "        return 0.0\n",
    "    else:\n",
    "        return float(numerator) / denominator\n",
    "\n",
    "def text_to_vector(text):\n",
    "    WORD = re.compile(r'\\w+')\n",
    "    return Counter(WORD.findall(text))\n",
    "\n",
    "def get_similarity(a, b):\n",
    "    a = text_to_vector(a.strip().lower())\n",
    "    b = text_to_vector(b.strip().lower())\n",
    "\n",
    "    return get_cosine(a, b)\n",
    "\n",
    "def initialize_name_1(name):\n",
    "    name = name.split(\", \")\n",
    "    if len(name) > 1:\n",
    "        first_name = name[-1]\n",
    "    else:\n",
    "        return name[0]\n",
    "    initialized_firstname = first_name[0] + \".\"\n",
    "    return name[0] + initialized_firstname\n",
    "\n",
    "def initialize_name_2(name):\n",
    "    name = name.split(\", \")\n",
    "    if len(name) > 1:\n",
    "        first_name = name[0]\n",
    "    else:\n",
    "        return name[0]\n",
    "    initialized_firstname = first_name[0]\n",
    "    return name[1] + initialized_firstname"
   ]
  },
  {
   "cell_type": "code",
   "execution_count": 27,
   "id": "2ebbff73",
   "metadata": {},
   "outputs": [],
   "source": [
    "def comparing(name1,name2):\n",
    "    name11 = initialize_name_1(name1)\n",
    "    name12 = initialize_name_2(name1)\n",
    "    name21 = initialize_name_1(name2)\n",
    "    name22 = initialize_name_2(name2)\n",
    "\n",
    "    k = 0\n",
    "    if get_similarity(name11,name21) > 0.8 or get_similarity(name11,name22) > 0.8:\n",
    "        k = k + 1\n",
    "    if get_similarity(name12, name21) > 0.8 or get_similarity(name12, name22) > 0.8:\n",
    "        k = k + 1\n",
    "    if k > 0:\n",
    "        return 1\n",
    "    else:\n",
    "        return 0"
   ]
  },
  {
   "cell_type": "code",
   "execution_count": 28,
   "id": "8364e2ea",
   "metadata": {},
   "outputs": [],
   "source": [
    "def reformat_file(filename): #这个函数是把2022年data paper和original research paper信息的csv文档转化为可分析的格式\n",
    "    content_list = [] #content_list是读取的csv文件中的每一行内容 \"data/2022data/data_paper_author.csv\"\n",
    "    with open(filename, encoding= \"utf-16\") as f:\n",
    "        for row in csv.reader(f, skipinitialspace = False):\n",
    "            rt= row[0].split(\"\\t\")\n",
    "            author_number = int(rt[1])\n",
    "            author_list = []\n",
    "            for i in rt[2:(2+author_number)]:\n",
    "                author_list.append(i)\n",
    "\n",
    "            content_list.append([rt[0],author_number,author_list]) #content list中每一个item的结构为： id, 作者数量， 作者，作者，作者...\n",
    "\n",
    "    file = open(\"output/data-reformatted.csv\", 'a+', encoding='utf-16', newline='')\n",
    "    csv_writer = csv.writer(file)\n",
    "    for i in content_list:\n",
    "        csv_writer.writerow(i)\n",
    "    file.close()\n",
    "    return"
   ]
  },
  {
   "cell_type": "code",
   "execution_count": 40,
   "id": "e2dca4f6",
   "metadata": {},
   "outputs": [],
   "source": [
    "def count_intersection(list1,list2):#计算两个序列的交集大小,比较人名的方式是只比较两个人姓名的首字母是否一致\n",
    "    intersection = []\n",
    "    m = []\n",
    "    n = []\n",
    "    for i in list1:\n",
    "        m.append(i)\n",
    "\n",
    "    for i in list2:\n",
    "        n.append(i)\n",
    "\n",
    "    for i in range(0, len(m)):\n",
    "        for j in range(0, len(n)):\n",
    "            if comparing(m[i], n[j]):\n",
    "                p = m[i]\n",
    "                intersection.append(p)\n",
    "                m[i] = \"i Have found the name here\"\n",
    "                n[j] = \"j abcdefg\"\n",
    "    k = len(intersection)\n",
    "    return k"
   ]
  },
  {
   "cell_type": "code",
   "execution_count": 41,
   "id": "1f8fe1b4",
   "metadata": {},
   "outputs": [],
   "source": [
    "def count_rbo(author_list1,author_list2,p): #这个函数的目的是计算两个作者序列的RBO值,p是赋予的深度权重\n",
    "    list1_length = len(author_list1)\n",
    "    list2_length = len(author_list2)\n",
    "    length = max(list1_length,list2_length)\n",
    "    rbo = 0\n",
    "    for i in range(1,length+1):\n",
    "        if i <= list1_length and list1_length <= list2_length:\n",
    "            rbo = rbo + (1-p) * (p**(i-1))*count_intersection(author_list1[0:i],author_list2[0:i])/i\n",
    "        elif i > list1_length and list1_length <= list2_length:\n",
    "            rbo = rbo + (1 - p) * (p ** (i - 1)) * count_intersection(author_list1[0:list1_length], author_list2[0:i])/i\n",
    "        elif i <= list2_length and list1_length > list2_length:\n",
    "            rbo = rbo + (1 - p) * (p ** (i - 1)) * count_intersection(author_list1[0:i], author_list2[0:i])/i\n",
    "        elif i > list2_length and list1_length > list2_length:\n",
    "            rbo = rbo + (1 - p) * (p ** (i - 1)) * count_intersection(author_list1[0:i], author_list2[0:list2_length])/i\n",
    "\n",
    "    standard_rbo = 0\n",
    "\n",
    "    for i in range(1,length+1):\n",
    "        standard_rbo = standard_rbo + (1-p)*(p ** (i - 1))\n",
    "\n",
    "    adjusted_rbo = rbo/standard_rbo\n",
    "\n",
    "    return adjusted_rbo"
   ]
  },
  {
   "cell_type": "code",
   "execution_count": 42,
   "id": "b031cc4f",
   "metadata": {},
   "outputs": [],
   "source": [
    "def Jaccard(list1,list2): #Jaccard（杰卡德）距离是用两个集合中不同元素所占元素的比例来衡量两个集合（样本）的区分度。\n",
    "    intersection = []\n",
    "    combination = []\n",
    "    for i in list1:\n",
    "        if i not in intersection:\n",
    "            intersection.append(i)\n",
    "        for j in list2:\n",
    "            if comparing(i,j):\n",
    "                combination.append(i)\n",
    "                break\n",
    "    output = (len(intersection)-len(combination))/len(intersection)\n",
    "    return output"
   ]
  },
  {
   "cell_type": "code",
   "execution_count": null,
   "id": "23381441",
   "metadata": {},
   "outputs": [],
   "source": [
    "all_information = []\n",
    "result = []\n",
    "with open(\"../data/Rawdata.csv\",encoding= \"utf-8\") as f:\n",
    "    for row in csv.reader(f, skipinitialspace=True):\n",
    "        item = []\n",
    "        item.append(row[0])#all_information里面每一项的数据结构为：【Data_paper_ID，Original_paper_ID，Data_paper_authors，Original_paper_authors，data_number，ori_number，Discipline】\n",
    "        item.append(row[1]) #Original_paper_ID\n",
    "        item.append(row[2]) #Data_paper_authors\n",
    "        item.append(row[3]) #Research_paper_authors\n",
    "        item.append(row[4]) #datapaper_author_number\n",
    "        item.append(row[5]) #researchpaper_author_number\n",
    "        item.append(row[6])#discipline\n",
    "        item.append(row[7]) #subject\n",
    "        m =row[2][2:(len(row[2]))-2] #输入的是字符串形式的列表，以下几行的目的是把字符串形式的列表数据转换回字符串\n",
    "        ms = m.split(\"', '\")\n",
    "\n",
    "        n = row[3][2:(len(row[3])) - 2]  # 输入的是字符串形式的列表，以下几行的目的是把字符串形式的列表数据转换回字符串\n",
    "        ns = n.split(\"', '\")\n",
    "        rbo = count_rbo(ms,ns,0.5)\n",
    "        item.append(rbo)\n",
    "\n",
    "        jaccard = Jaccard(ms,ns)\n",
    "        item.append(jaccard)\n",
    "\n",
    "        Edit_Distance = Levenshtein.distance(ms,ns)\n",
    "        item.append(Edit_Distance)\n",
    "\n",
    "        L_ratio = Levenshtein.ratio(ms,ns)\n",
    "        item.append(L_ratio)\n",
    "        result.append(item)\n",
    "\n",
    "with open(\"../output/author-information-ForAnalysis.csv\",'a+', encoding= \"utf-8-sig\", newline='') as file:\n",
    "    csv_writer = csv.writer(file)\n",
    "    for i in result:\n",
    "        csv_writer.writerow(i)\n",
    "    file.close()"
   ]
  },
  {
   "cell_type": "code",
   "execution_count": null,
   "id": "1593bf7a",
   "metadata": {},
   "outputs": [],
   "source": []
  }
 ],
 "metadata": {
  "kernelspec": {
   "display_name": "Python 3 (ipykernel)",
   "language": "python",
   "name": "python3"
  },
  "language_info": {
   "codemirror_mode": {
    "name": "ipython",
    "version": 3
   },
   "file_extension": ".py",
   "mimetype": "text/x-python",
   "name": "python",
   "nbconvert_exporter": "python",
   "pygments_lexer": "ipython3",
   "version": "3.10.8"
  }
 },
 "nbformat": 4,
 "nbformat_minor": 5
}
